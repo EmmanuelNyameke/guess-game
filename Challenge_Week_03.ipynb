{
 "cells": [
  {
   "cell_type": "markdown",
   "id": "f17be925-b69f-471e-ad94-dd21890f7500",
   "metadata": {},
   "source": [
    "# Age Group"
   ]
  },
  {
   "cell_type": "code",
   "execution_count": 5,
   "id": "d3854806-e550-4c43-aff7-a14dab9e58e1",
   "metadata": {},
   "outputs": [
    {
     "name": "stdin",
     "output_type": "stream",
     "text": [
      "How old are you?  78\n"
     ]
    },
    {
     "name": "stdout",
     "output_type": "stream",
     "text": [
      "You are Senior\n"
     ]
    }
   ],
   "source": [
    "# Asking for user input\n",
    "try:\n",
    "    age = input(\"How old are you? \")\n",
    "    # Converting the user input to integer\n",
    "    age_converted = (int) (age)\n",
    "    # Outputting result based on user input\n",
    "    if age_converted > 0 and age_converted < 12:\n",
    "        print(\"You are a Kid\")\n",
    "    elif age_converted > 12 and age_converted < 19:\n",
    "        print(\"You are a teenager\")\n",
    "    elif age_converted > 19 and age_converted < 30:\n",
    "        print(\"You are Young Adult\")\n",
    "    elif age_converted > 30 and age_converted < 64:\n",
    "        print(\"You are Adult\")\n",
    "    elif age_converted > 64:\n",
    "        print(\"You are Senior\")\n",
    "    else:\n",
    "        print(\"Age entered is invalid.\")\n",
    "\n",
    "except:\n",
    "    print(\"Error. {} is not a number. Enter a number\".format(age))\n",
    "\n",
    "    "
   ]
  },
  {
   "cell_type": "code",
   "execution_count": null,
   "id": "540af5fe-2316-49df-9104-8acacb2fc2e2",
   "metadata": {},
   "outputs": [],
   "source": []
  }
 ],
 "metadata": {
  "kernelspec": {
   "display_name": "Python 3 (ipykernel)",
   "language": "python",
   "name": "python3"
  },
  "language_info": {
   "codemirror_mode": {
    "name": "ipython",
    "version": 3
   },
   "file_extension": ".py",
   "mimetype": "text/x-python",
   "name": "python",
   "nbconvert_exporter": "python",
   "pygments_lexer": "ipython3",
   "version": "3.11.7"
  }
 },
 "nbformat": 4,
 "nbformat_minor": 5
}
