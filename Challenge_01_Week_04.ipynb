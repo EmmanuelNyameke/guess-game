{
 "cells": [
  {
   "cell_type": "markdown",
   "id": "7423cb37-65e8-47df-b636-ddc9e7896e65",
   "metadata": {},
   "source": [
    "# Outputting names"
   ]
  },
  {
   "cell_type": "code",
   "execution_count": 5,
   "id": "6f9f13e2-241f-4779-a145-23f26deccf34",
   "metadata": {},
   "outputs": [
    {
     "name": "stdout",
     "output_type": "stream",
     "text": [
      "['John', 'Amanda']\n",
      "['John', 'Amanda']\n",
      "['John', 'Amanda']\n",
      "['John', 'Amanda']\n"
     ]
    }
   ],
   "source": [
    "# Declaring and assigning variables\n",
    "names = ['John', '', 'Amanda', 5];\n",
    "for name in names:\n",
    "    name = names[0: 3 : 2]\n",
    "    print(name)"
   ]
  },
  {
   "cell_type": "code",
   "execution_count": null,
   "id": "ad80bedd-643d-4a0f-b73d-3ab015eb1a81",
   "metadata": {},
   "outputs": [],
   "source": []
  }
 ],
 "metadata": {
  "kernelspec": {
   "display_name": "Python 3 (ipykernel)",
   "language": "python",
   "name": "python3"
  },
  "language_info": {
   "codemirror_mode": {
    "name": "ipython",
    "version": 3
   },
   "file_extension": ".py",
   "mimetype": "text/x-python",
   "name": "python",
   "nbconvert_exporter": "python",
   "pygments_lexer": "ipython3",
   "version": "3.11.7"
  }
 },
 "nbformat": 4,
 "nbformat_minor": 5
}
