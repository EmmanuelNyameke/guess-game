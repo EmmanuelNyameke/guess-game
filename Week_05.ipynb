{
 "cells": [
  {
   "cell_type": "markdown",
   "id": "a971799d-5025-4f38-a2d8-6d611fbf38ad",
   "metadata": {},
   "source": [
    "# Shopping Cart"
   ]
  },
  {
   "cell_type": "code",
   "execution_count": null,
   "id": "3b26846f-5dd0-405c-9286-011c5de9a4d7",
   "metadata": {},
   "outputs": [],
   "source": [
    "# Importing the necessary functions\n",
    "from IPython.display import clear_output\n",
    "# Global List Variable\n",
    "cart = []\n",
    "# Creating functions to add items to cart\n",
    "def addItem(item):\n",
    "    clear_output()\n",
    "    cart.append(item)\n",
    "    print(\"{} has been added successfully.\".format(item))\n",
    "\n",
    "# Creating functions to remove items from cart\n",
    "def removeItem(item):\n",
    "    clear_output()\n",
    "    try:\n",
    "        cart.remove(item)\n",
    "        print(\"{} has been removed successfully.\".format(item))\n",
    "    except:\n",
    "        print(\"Sorry, we could not remove that item.\")\n",
    "\n",
    "# Creating a function to show items in the cart\n",
    "def showCart():\n",
    "    clear_output()\n",
    "    if cart:\n",
    "        print(\"Here is your cart: \")\n",
    "        for item in cart:\n",
    "            print(\"- {}\".format(item))\n",
    "    else:\n",
    "        print(\"Your cart is empty\")\n",
    "\n",
    "def clearCart():\n",
    "    clear_output()\n",
    "    cart.clear()\n",
    "    print(\"Cart Cleared Successfully.\")\n",
    "\n",
    "# Creating main functions that loops until user quits\n",
    "def main():\n",
    "    done = False\n",
    "    while not done:\n",
    "        ans = input(\"quit/add/remove/show/clear: \").lower()\n",
    "        # Base Case\n",
    "        if ans == \"quit\":\n",
    "            print(\"Thanks for using the program.\")\n",
    "            showCart()\n",
    "            done = True\n",
    "        elif ans == \"add\":\n",
    "            item = input(\"What would you like to add? \").title()\n",
    "            addItem(item)\n",
    "        elif ans == \"remove\":\n",
    "            showCart()\n",
    "            item = input(\"What item would you like to remove? \").title()\n",
    "            removeItem(item)\n",
    "        elif ans == \"show\":\n",
    "            showCart()\n",
    "        elif ans == \"clear\":\n",
    "            clearCart()\n",
    "        else:\n",
    "            print(\"Sorry that was not an option\")\n",
    "\n",
    "# Running the program\n",
    "main()"
   ]
  },
  {
   "cell_type": "code",
   "execution_count": null,
   "id": "b8d0f0d7-1b1a-4750-b4cd-eeed6893705f",
   "metadata": {},
   "outputs": [],
   "source": []
  }
 ],
 "metadata": {
  "kernelspec": {
   "display_name": "Python 3 (ipykernel)",
   "language": "python",
   "name": "python3"
  },
  "language_info": {
   "codemirror_mode": {
    "name": "ipython",
    "version": 3
   },
   "file_extension": ".py",
   "mimetype": "text/x-python",
   "name": "python",
   "nbconvert_exporter": "python",
   "pygments_lexer": "ipython3",
   "version": "3.11.7"
  }
 },
 "nbformat": 4,
 "nbformat_minor": 5
}
