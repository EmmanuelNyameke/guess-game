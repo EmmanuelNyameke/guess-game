{
 "cells": [
  {
   "cell_type": "markdown",
   "id": "2f3510ab-7310-4df9-b0ef-5f35b6b751a3",
   "metadata": {},
   "source": [
    "# Printing Receipt"
   ]
  },
  {
   "cell_type": "code",
   "execution_count": 15,
   "id": "ee8d8cdb-fcae-4e10-b03d-183d16a84217",
   "metadata": {},
   "outputs": [
    {
     "name": "stdout",
     "output_type": "stream",
     "text": [
      "**************************************************\n",
      "\t\t Coding Temple, Inc.\n",
      "\t\t 283 Franklin St.\n",
      "\t\t Boston, MA\n",
      "==================================================\n",
      "\tProduct Name\tProduct Price\n",
      "\tBooks\t\t$49.95\n",
      "\tComputer\t$579.99\n",
      "\tMonitor\t\t$124.89\n",
      "==================================================\n",
      "\t\t\tTotal\n",
      "\t\t\t$754.83\n",
      "==================================================\n",
      "\n",
      "\tThanks for shopping with us today.\n",
      "\n",
      "**************************************************\n"
     ]
    }
   ],
   "source": [
    "# Creating a product and price for three items\n",
    "p1_name, p1_price = \"Books\", 49.95\n",
    "p2_name, p2_price = \"Computer\", 579.99\n",
    "p3_name, p3_price = \"Monitor\", 124.89\n",
    "\n",
    "# Creating the company name and information\n",
    "company_name = \"coding temple, inc.\"\n",
    "company_address = \"283 Franklin St.\"\n",
    "company_city = \"Boston, MA\"\n",
    "\n",
    "# Declaring ending message\n",
    "message = \"Thanks for shopping with us today.\"\n",
    "\n",
    "# Creating a top border\n",
    "print(\"*\" * 50)\n",
    "\n",
    "# Printing the company information first, using format\n",
    "print(\"\\t\\t {}\".format(company_name.title()))\n",
    "print(\"\\t\\t {}\".format(company_address))\n",
    "print(\"\\t\\t {}\".format(company_city))\n",
    "\n",
    "# Printing a line between sections\n",
    "print(\"=\" * 50)\n",
    "\n",
    "# Printing out header for a section of items\n",
    "print(\"\\tProduct Name\\tProduct Price\")\n",
    "\n",
    "# Creating a print statement for each product\n",
    "print(\"\\t{}\\t\\t${}\".format(p1_name.title(), p1_price))\n",
    "print(\"\\t{}\\t${}\".format(p2_name.title(), p2_price))\n",
    "print(\"\\t{}\\t\\t${}\".format(p3_name.title(), p3_price))\n",
    "\n",
    "# Printing a line between section\n",
    "print(\"=\" * 50)\n",
    "\n",
    "# Printing out header for a section of total\n",
    "print(\"\\t\\t\\tTotal\")\n",
    "\n",
    "# Calculating the total price and printing it out\n",
    "total = p1_price + p2_price + p3_price\n",
    "print(\"\\t\\t\\t${}\".format(total))\n",
    "\n",
    "# Printing a line between section\n",
    "print(\"=\" * 50)\n",
    "\n",
    "# Outputtng thank you message\n",
    "print(\"\\n\\t{}\\n\".format(message))\n",
    "\n",
    "# Creating a bottom border\n",
    "print(\"*\" * 50)"
   ]
  }
 ],
 "metadata": {
  "kernelspec": {
   "display_name": "Python 3 (ipykernel)",
   "language": "python",
   "name": "python3"
  },
  "language_info": {
   "codemirror_mode": {
    "name": "ipython",
    "version": 3
   },
   "file_extension": ".py",
   "mimetype": "text/x-python",
   "name": "python",
   "nbconvert_exporter": "python",
   "pygments_lexer": "ipython3",
   "version": "3.11.7"
  }
 },
 "nbformat": 4,
 "nbformat_minor": 5
}
