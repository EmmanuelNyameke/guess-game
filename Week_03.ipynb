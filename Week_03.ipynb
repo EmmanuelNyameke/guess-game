{
 "cells": [
  {
   "cell_type": "markdown",
   "id": "be3ab432-4c96-47af-b248-c0dd7d119645",
   "metadata": {},
   "source": [
    "# Creating a calculator"
   ]
  },
  {
   "cell_type": "code",
   "execution_count": 5,
   "id": "30987bf6-c0d8-4619-849c-2c1373e1b2ef",
   "metadata": {},
   "outputs": [
    {
     "name": "stdin",
     "output_type": "stream",
     "text": [
      "Would you like to add/subtract/multiply/divide? subtract\n"
     ]
    },
    {
     "name": "stdout",
     "output_type": "stream",
     "text": [
      "You chose subtract.\n"
     ]
    }
   ],
   "source": [
    "# Step 1: Asking users for calculation to be performed\n",
    "operation = input(\"Would you like to add/subtract/multiply/divide?\").lower()\n",
    "print(\"You chose {}.\".format(operation)) # for testing purposes\n"
   ]
  },
  {
   "cell_type": "code",
   "execution_count": 6,
   "id": "49afe383-19f8-4cef-b26b-ae978cf38376",
   "metadata": {},
   "outputs": [
    {
     "name": "stdout",
     "output_type": "stream",
     "text": [
      "You chose subtract.\n",
      "Please keep in mind that the order of your numbers matter.\n"
     ]
    },
    {
     "name": "stdin",
     "output_type": "stream",
     "text": [
      "What is your first number?  23\n",
      "What is your second number?  14\n"
     ]
    },
    {
     "name": "stdout",
     "output_type": "stream",
     "text": [
      "First Number: 23\n",
      "Second Number: 14\n"
     ]
    }
   ],
   "source": [
    "# Step 2: Asking for numbers, alert order matters for subtracting and dividing\n",
    "if operation == \"subtract\" or operation == \"divide\":\n",
    "    print(\"You chose {}.\".format(operation))\n",
    "    print(\"Please keep in mind that the order of your numbers matter.\")\n",
    "    num1 = input(\"What is your first number? \")\n",
    "    num2 = input(\"What is your second number? \")\n",
    "    print(\"First Number: {}\".format(num1)) # for testing purposes\n",
    "    print(\"Second Number: {}\".format(num2)) # for testing purposes"
   ]
  },
  {
   "cell_type": "code",
   "execution_count": 7,
   "id": "b827fb4b-1189-4baf-8773-5e88b2e9e9bb",
   "metadata": {},
   "outputs": [
    {
     "name": "stdout",
     "output_type": "stream",
     "text": [
      "23.0 - 14.0 = 9.0\n"
     ]
    }
   ],
   "source": [
    "# Step 3: Setting up try/except for mathematical operations\n",
    "try:\n",
    "    # Converting user number inputs to floats\n",
    "    num1, num2 = float(num1), float(num2)\n",
    "    # Performing operation and printing results\n",
    "    if operation == \"add\":\n",
    "        result = num1 + num2\n",
    "        print(\"{} + {} = {}\".format(num1, num2, result))\n",
    "    elif operation == \"subtract\":\n",
    "        result = num1 - num2\n",
    "        print(\"{} - {} = {}\".format(num1, num2, result))\n",
    "    elif operation == \"multiply\":\n",
    "        result = num1 * num2\n",
    "        print(\"{} * {} = {}\".format(num1, num2, result))\n",
    "    elif operation == \"divide\":\n",
    "        result = num1 / num2\n",
    "        print(\"{} / {} = {}\".format(num1, num2, result))\n",
    "    else: # Else will be hit if they chose an incorrect option\n",
    "        print(\"Sorry, {} is not an option.\".format(operation))\n",
    "\n",
    "except:\n",
    "    # Printing error\n",
    "    print(\"Error. Improper numbers used. Try again.\")"
   ]
  },
  {
   "cell_type": "code",
   "execution_count": null,
   "id": "486aa384-85e7-4944-b6a9-340354f1c78a",
   "metadata": {},
   "outputs": [],
   "source": []
  }
 ],
 "metadata": {
  "kernelspec": {
   "display_name": "Python 3 (ipykernel)",
   "language": "python",
   "name": "python3"
  },
  "language_info": {
   "codemirror_mode": {
    "name": "ipython",
    "version": 3
   },
   "file_extension": ".py",
   "mimetype": "text/x-python",
   "name": "python",
   "nbconvert_exporter": "python",
   "pygments_lexer": "ipython3",
   "version": "3.11.7"
  }
 },
 "nbformat": 4,
 "nbformat_minor": 5
}
