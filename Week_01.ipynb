{
 "cells": [
  {
   "cell_type": "code",
   "execution_count": null,
   "id": "f4525dcd-41c6-4a02-b316-5c56c60c1996",
   "metadata": {},
   "outputs": [
    {
     "name": "stdout",
     "output_type": "stream",
     "text": [
      "The number is greater than what you have guessed.\n"
     ]
    }
   ],
   "source": [
    "# Guessing game\n",
    "from random import randint\n",
    "from IPython.display import clear_output\n",
    "guessed = False\n",
    "number = randint(0, 100)\n",
    "guesses = 0\n",
    "while not guessed:\n",
    "    ans = input(\"Try to guess the number I'm thinking of!\")\n",
    "# Use tab to indent\n",
    "    guesses += 1\n",
    "    clear_output()\n",
    "    if int(ans) == number:\n",
    "            print(\"Congrats! You guessed it correctly\")\n",
    "            print(\"It took you {} guesses!\".format(guesses))\n",
    "            break\n",
    "    elif int(ans) > number:\n",
    "            print(\"The number is lower than what you have guessed.\")\n",
    "    elif int(ans) < number:\n",
    "            print(\"The number is greater than what you have guessed.\")"
   ]
  },
  {
   "cell_type": "code",
   "execution_count": null,
   "id": "de59f6d9-d28c-4d0b-8c42-c1c0531e77da",
   "metadata": {},
   "outputs": [],
   "source": []
  }
 ],
 "metadata": {
  "kernelspec": {
   "display_name": "Python 3 (ipykernel)",
   "language": "python",
   "name": "python3"
  },
  "language_info": {
   "codemirror_mode": {
    "name": "ipython",
    "version": 3
   },
   "file_extension": ".py",
   "mimetype": "text/x-python",
   "name": "python",
   "nbconvert_exporter": "python",
   "pygments_lexer": "ipython3",
   "version": "3.11.7"
  }
 },
 "nbformat": 4,
 "nbformat_minor": 5
}
