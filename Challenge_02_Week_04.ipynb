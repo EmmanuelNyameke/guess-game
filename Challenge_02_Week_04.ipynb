{
 "cells": [
  {
   "cell_type": "markdown",
   "id": "0442dee3-4e47-4eee-9a39-d01ab6dc7495",
   "metadata": {},
   "source": [
    "# Convert Celsius"
   ]
  },
  {
   "cell_type": "code",
   "execution_count": null,
   "id": "d427fe5d-6a45-419e-be27-5ac089cab02a",
   "metadata": {},
   "outputs": [],
   "source": [
    "temps = [32, 12, 44, 29]\n",
    "for C in temps:\n",
    "    # Formula for finding fahrenheit\n",
    "    f = (9/5) * C + 32\n",
    "    print(f)"
   ]
  },
  {
   "cell_type": "code",
   "execution_count": null,
   "id": "437c6530-c236-451a-92ec-f431944db7d8",
   "metadata": {},
   "outputs": [],
   "source": []
  }
 ],
 "metadata": {
  "kernelspec": {
   "display_name": "Python 3 (ipykernel)",
   "language": "python",
   "name": "python3"
  },
  "language_info": {
   "codemirror_mode": {
    "name": "ipython",
    "version": 3
   },
   "file_extension": ".py",
   "mimetype": "text/x-python",
   "name": "python",
   "nbconvert_exporter": "python",
   "pygments_lexer": "ipython3",
   "version": "3.11.7"
  }
 },
 "nbformat": 4,
 "nbformat_minor": 5
}
