{
 "cells": [
  {
   "cell_type": "markdown",
   "id": "13cdf2e9-f46e-4a6c-baff-49e498c29cd1",
   "metadata": {},
   "source": [
    "# Text-based RPG"
   ]
  },
  {
   "cell_type": "code",
   "execution_count": 2,
   "id": "7d7ffaaa-64a2-4576-9ea0-24d47474d02a",
   "metadata": {},
   "outputs": [
    {
     "name": "stdout",
     "output_type": "stream",
     "text": [
      "Welcome to Sugarvale, adventurer!\n",
      "The town elder, Mr. Fudgeworth, approaches you with a worried look.\n",
      "\n",
      "\"Adventurer, we are in great peril! The Heartstone has been stolen! Will you help us?\"\n"
     ]
    }
   ],
   "source": [
    "# Introduction of the story\n",
    "print(\"Welcome to Sugarvale, adventurer!\")\n",
    "print(\"The town elder, Mr. Fudgeworth, approaches you with a worried look.\")\n",
    "print()\n",
    "print(\"\\\"Adventurer, we are in great peril! The Heartstone has been stolen! Will you help us?\\\"\")"
   ]
  },
  {
   "cell_type": "code",
   "execution_count": 14,
   "id": "1aa16f9d-7df1-4b50-84d3-cb8830b553a7",
   "metadata": {},
   "outputs": [
    {
     "name": "stdout",
     "output_type": "stream",
     "text": [
      "1. Of Course, I'll save Sugarvale!\n",
      "2. What's in it for me?\n",
      "3. This sounds dangerous. Count me out.\n"
     ]
    }
   ],
   "source": [
    "# Displaying options for users to choose\n",
    "option_1 = print(\"1. Of Course, I'll save Sugarvale!\")\n",
    "option_2 = print(\"2. What's in it for me?\")\n",
    "option_3 = print(\"3. This sounds dangerous. Count me out.\")"
   ]
  },
  {
   "cell_type": "code",
   "execution_count": 20,
   "id": "69a3df21-c233-47c5-9de4-0393fcfc3ed5",
   "metadata": {},
   "outputs": [
    {
     "name": "stdin",
     "output_type": "stream",
     "text": [
      "Choose an option. Enter the number corresponding to the option: a\n"
     ]
    },
    {
     "ename": "ValueError",
     "evalue": "invalid literal for int() with base 10: 'a'",
     "output_type": "error",
     "traceback": [
      "\u001b[1;31m---------------------------------------------------------------------------\u001b[0m",
      "\u001b[1;31mValueError\u001b[0m                                Traceback (most recent call last)",
      "Cell \u001b[1;32mIn[20], line 2\u001b[0m\n\u001b[0;32m      1\u001b[0m \u001b[38;5;66;03m# Asking user input\u001b[39;00m\n\u001b[1;32m----> 2\u001b[0m chosen_option \u001b[38;5;241m=\u001b[39m (\u001b[38;5;28mint\u001b[39m) (\u001b[38;5;28minput\u001b[39m(\u001b[38;5;124m\"\u001b[39m\u001b[38;5;124mChoose an option. Enter the number corresponding to the option:\u001b[39m\u001b[38;5;124m\"\u001b[39m))\n\u001b[0;32m      3\u001b[0m \u001b[38;5;66;03m# Validating user input\u001b[39;00m\n\u001b[0;32m      4\u001b[0m \u001b[38;5;28;01mtry\u001b[39;00m:\n",
      "\u001b[1;31mValueError\u001b[0m: invalid literal for int() with base 10: 'a'"
     ]
    }
   ],
   "source": [
    "# Asking user input\n",
    "chosen_option = (int) (input(\"Choose an option. Enter the number corresponding to the option:\"))\n",
    "# Validating user input\n",
    "try:\n",
    "    if chosen_option == 1:\n",
    "        print(\"To be continued...\")\n",
    "    elif chosen_option == 2:\n",
    "        print(\"To be continued...\")\n",
    "    elif chosen_option == 3:\n",
    "        print(\"To be continued...\")\n",
    "    else:\n",
    "        print(\"Invalid option selected!!!\")\n",
    "\n",
    "except:\n",
    "    print(\"Enter a value\")"
   ]
  },
  {
   "cell_type": "code",
   "execution_count": null,
   "id": "19651386-d62d-4d38-be0a-682053ca71bc",
   "metadata": {},
   "outputs": [],
   "source": []
  }
 ],
 "metadata": {
  "kernelspec": {
   "display_name": "Python 3 (ipykernel)",
   "language": "python",
   "name": "python3"
  },
  "language_info": {
   "codemirror_mode": {
    "name": "ipython",
    "version": 3
   },
   "file_extension": ".py",
   "mimetype": "text/x-python",
   "name": "python",
   "nbconvert_exporter": "python",
   "pygments_lexer": "ipython3",
   "version": "3.11.7"
  }
 },
 "nbformat": 4,
 "nbformat_minor": 5
}
